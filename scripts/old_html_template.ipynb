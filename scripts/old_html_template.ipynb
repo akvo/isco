{
 "cells": [
  {
   "cell_type": "code",
   "execution_count": 1,
   "metadata": {
    "ExecuteTime": {
     "end_time": "2022-05-17T07:12:52.919197Z",
     "start_time": "2022-05-17T07:12:52.141609Z"
    }
   },
   "outputs": [],
   "source": [
    "import pandas as pd\n",
    "import glob\n",
    "import requests as r\n",
    "import os\n",
    "import json\n",
    "import jinja2\n",
    "import re"
   ]
  },
  {
   "cell_type": "code",
   "execution_count": 2,
   "metadata": {
    "ExecuteTime": {
     "end_time": "2022-05-17T07:12:52.939581Z",
     "start_time": "2022-05-17T07:12:52.921948Z"
    }
   },
   "outputs": [],
   "source": [
    "template_loader = jinja2.FileSystemLoader(searchpath=\"./../backend/templates\")\n",
    "template_env = jinja2.Environment(loader=template_loader)\n",
    "template_file = \"report.html\"\n",
    "template = template_env.get_template(template_file)"
   ]
  },
  {
   "cell_type": "code",
   "execution_count": 3,
   "metadata": {
    "ExecuteTime": {
     "end_time": "2022-05-17T07:12:52.957069Z",
     "start_time": "2022-05-17T07:12:52.946248Z"
    }
   },
   "outputs": [],
   "source": [
    "users = pd.read_csv('./user_organisation.csv')\n",
    "emails = users['email'].str.lower().tolist()\n",
    "files = glob.glob('./**/*.xlsx', recursive=True)\n",
    "form_dumps = './old_forms.json'"
   ]
  },
  {
   "cell_type": "code",
   "execution_count": 4,
   "metadata": {
    "ExecuteTime": {
     "end_time": "2022-05-17T07:12:52.973764Z",
     "start_time": "2022-05-17T07:12:52.959020Z"
    }
   },
   "outputs": [
    {
     "data": {
      "text/plain": [
       "['./old_data/Data 2020/MEMBER_BC-SS-2020-114380434.xlsx',\n",
       " './old_data/Data 2020/MEMBER_GISCO-SS-2020-104340413.xlsx',\n",
       " './old_data/Data 2020/MEMBER_GISCO-Industry-2020-110440021.xlsx',\n",
       " './old_data/Data 2020/PROJECT_Project-2020-102420261.xlsx',\n",
       " './old_data/Data 2020/MEMBER_GISCO-Reail-2020-110470073.xlsx',\n",
       " './old_data/Data 2020/MEMBER_GISCO-BC-Retail-2020-126180526.xlsx',\n",
       " './old_data/Data 2020/MEMBER_GISCO-Civil-2020-118270247.xlsx',\n",
       " './old_data/Data 2020/MEMBER_GISCO-BC-SS-2020-108490561.xlsx',\n",
       " './old_data/Data 2020/MEMBER_GISCO-BC-Industry-2020-120260091.xlsx',\n",
       " './old_data/Data 2020/MEMBER_BC-Industry-2020-122170164.xlsx',\n",
       " './old_data/Data 2020/MEMBER_BC-Retail-2020-114380235.xlsx',\n",
       " './old_data/Data 2019/MEMBER_GISCO-Civil-2019-111890828 (1).xlsx',\n",
       " './old_data/Data 2019/PROJECT_Projects-2019-111510043.xlsx',\n",
       " './old_data/Data 2019/MEMBER_GISCO-Retail-2019-105640815.xlsx',\n",
       " './old_data/Data 2019/MEMBER_GISCO-Industry-2019-113130042.xlsx',\n",
       " './old_data/Data 2019/MEMBER_GISCO-SS-2019-134210832.xlsx']"
      ]
     },
     "execution_count": 4,
     "metadata": {},
     "output_type": "execute_result"
    }
   ],
   "source": [
    "files"
   ]
  },
  {
   "cell_type": "code",
   "execution_count": 5,
   "metadata": {
    "ExecuteTime": {
     "end_time": "2022-05-17T07:12:52.985297Z",
     "start_time": "2022-05-17T07:12:52.976517Z"
    }
   },
   "outputs": [],
   "source": [
    "def rename_columns(column_names):\n",
    "    new_column_names = {}\n",
    "    for col in list(filter(lambda x: '|' in x, list(column_names))):\n",
    "        new_column_name = col.split('|')[0]\n",
    "        new_column_names.update({col: new_column_name})\n",
    "        if \"--OTHER\" in col:\n",
    "            new_column_names.update({col: f\"{new_column_name}--OTHER\"})\n",
    "    return new_column_names"
   ]
  },
  {
   "cell_type": "code",
   "execution_count": 6,
   "metadata": {
    "ExecuteTime": {
     "end_time": "2022-05-17T07:12:52.994691Z",
     "start_time": "2022-05-17T07:12:52.987495Z"
    }
   },
   "outputs": [],
   "source": [
    "def get_all_forms():\n",
    "    if os.path.isfile(form_dumps):\n",
    "        with open(form_dumps, 'r') as f:\n",
    "            return json.load(f)\n",
    "    dumps = []\n",
    "    for f in files:\n",
    "        form_id = f.split(\"-\")[-1].split(\".xlsx\")[0].split(\" \")[0]\n",
    "        instances = [\"idh\",\"isco\"]\n",
    "        for instance in instances:\n",
    "            generated_id = r.get(f\"https://webform.akvo.org/api/generate/{instance}/{form_id}\")\n",
    "            generated_id = generated_id.text\n",
    "            form = r.get(f\"https://webform.akvo.org/api/form/{generated_id}\")\n",
    "            if form.status_code == 200:\n",
    "                dumps.append({\n",
    "                    \"form_id\": form_id,\n",
    "                    \"api\": f\"https://webform.akvo.org/api/form/{generated_id}\",\n",
    "                    \"instance\": instance,\n",
    "                    \"forms\": form.json(),\n",
    "                    \"file\": f\n",
    "                })\n",
    "    with open(form_dumps, 'w', encoding='utf-8') as f:\n",
    "        json.dump(dumps, f, indent=4)\n",
    "    return dumps"
   ]
  },
  {
   "cell_type": "code",
   "execution_count": 7,
   "metadata": {
    "ExecuteTime": {
     "end_time": "2022-05-17T07:12:53.026054Z",
     "start_time": "2022-05-17T07:12:53.008851Z"
    }
   },
   "outputs": [],
   "source": [
    "def generate_payload(payload, form_detail):\n",
    "    results = []\n",
    "    for d in payload:\n",
    "        detail = []\n",
    "        org = users[users[\"email\"].str.contains(d[\"Submitter\"].lower())]\n",
    "        year = d[\"Submission Date\"].split(\"-\")[2].split(\" \")[0]\n",
    "        result = {\n",
    "            \"id\": d[\"Instance\"],\n",
    "            \"uuid\": d[\"Identifier\"],\n",
    "            \"submitted\": d[\"Submission Date\"],\n",
    "            \"year\": year,\n",
    "            \"submitted_by\": {\n",
    "                \"id\": None,\n",
    "                \"name\": d[\"Submitter\"].lower()\n",
    "            },\n",
    "            \"organisation\": {\n",
    "                \"id\": None,\n",
    "                \"name\": None\n",
    "            },\n",
    "            \"form\": form_detail[\"form\"]\n",
    "        }\n",
    "        if org.shape[0] > 0:\n",
    "            org = org.to_dict(\"records\")[0]\n",
    "            result.update({\n",
    "                \"organisation\": {\n",
    "                    \"id\": org[\"organisation_id\"],\n",
    "                    \"name\": org[\"organisation_name\"]\n",
    "                },\n",
    "                \"submitted_by\": {\n",
    "                    \"id\": org[\"user_id\"],\n",
    "                    \"name\": org[\"email\"]\n",
    "                },\n",
    "\n",
    "            })\n",
    "        for fd in form_detail[\"detail\"]:\n",
    "            answers = []\n",
    "            if not fd[\"repeatable\"]:\n",
    "                repeat = []\n",
    "                for a in fd[\"answers\"]:\n",
    "                    value = d.get(a[\"id\"])\n",
    "                    if value != value:\n",
    "                        value = False\n",
    "                    if a[\"value_type\"] == \"list\" and value:\n",
    "                        value = value.split(\"|\")\n",
    "                        if d.get(a[\"id\"] + \"--OTHER\"):\n",
    "                            other = d.get(a[\"id\"] + \"--OTHER\")\n",
    "                            if other == other:\n",
    "                                value.append(\"Other:\" + d.get(a[\"id\"] + \"--OTHER\"))\n",
    "                    if a[\"value_type\"] != \"list\" and value and a[\"unit\"]:\n",
    "                        value = str(value) + \" \" + a[\"unit\"]\n",
    "                    if \"MULTICASCADE\" in a[\"question\"]:\n",
    "                        value = value.split(\"|\")\n",
    "                        a.update({\"value_type\": \"list\"})\n",
    "                    repeat.append({\n",
    "                        \"question\": a[\"question\"],\n",
    "                        \"value\": value,\n",
    "                        \"value_type\": a[\"value_type\"],\n",
    "                        \"tooltip\": a[\"tooltip\"],\n",
    "                        \"unit\": a[\"unit\"]\n",
    "                    })\n",
    "                answers.append({\"answers\": repeat})\n",
    "            else:\n",
    "                values = d.get(\"repeat_group\")\n",
    "                for i, val in enumerate(values):\n",
    "                    repeat = []\n",
    "                    for a in fd[\"answers\"]:\n",
    "                        value = val.get(a[\"id\"])\n",
    "                        if value:\n",
    "                            if value != value:\n",
    "                                value = False\n",
    "                            if a[\"value_type\"] == \"list\" and value:\n",
    "                                value = value.split(\"|\")\n",
    "                                if val.get(a[\"id\"] + \"--OTHER\"):\n",
    "                                    other = val.get(a[\"id\"] + \"--OTHER\")\n",
    "                                    if other == other:\n",
    "                                        value.append(\"Other:\" + other)\n",
    "                            if a[\"value_type\"] != \"list\" and value and a[\"unit\"]:\n",
    "                                value = str(value) + \" \" + a[\"unit\"]\n",
    "                            if \"MULTICASCADE\" in a[\"question\"]:\n",
    "                                value = value.split(\"|\")\n",
    "                                a.update({\"value_type\": \"list\"})\n",
    "                            repeat.append({\n",
    "                                \"question\": a[\"question\"],\n",
    "                                \"value\": value,\n",
    "                                \"value_type\": a[\"value_type\"],\n",
    "                                \"tooltip\": a[\"tooltip\"],\n",
    "                                \"unit\": a[\"unit\"]\n",
    "                            })\n",
    "                    if len(repeat):\n",
    "                        answers.append({\"answers\": repeat})\n",
    "                answers = [{\"answers\": a[\"answers\"], \"repeat\": i} for i, a in enumerate(answers)]\n",
    "            detail.append({\n",
    "                \"name\": fd[\"name\"],\n",
    "                \"repeatable\": fd[\"repeatable\"],\n",
    "                \"data\": answers\n",
    "            })\n",
    "        result.update({\"detail\":detail})\n",
    "        results.append(result)\n",
    "    return results"
   ]
  },
  {
   "cell_type": "code",
   "execution_count": 8,
   "metadata": {
    "ExecuteTime": {
     "end_time": "2022-05-17T07:12:53.118564Z",
     "start_time": "2022-05-17T07:12:53.029091Z"
    }
   },
   "outputs": [],
   "source": [
    "forms = get_all_forms()\n",
    "transformed_forms = []\n",
    "for form in forms:\n",
    "    questionGroups = []\n",
    "    for questionGroup in form['forms'][\"questionGroup\"]:\n",
    "        questions = []\n",
    "        for question in questionGroup[\"question\"]:\n",
    "            tooltip = False\n",
    "            unit = False\n",
    "            if question.get(\"help\"):\n",
    "                tooltip = question.get(\"help\").get(\"text\")\n",
    "                if \"##\" in tooltip:\n",
    "                    unit = tooltip.split(\"##\")[2]\n",
    "                    tooltip = tooltip.split(\"##\")[0]\n",
    "            questions.append({\n",
    "                \"id\":question[\"id\"].split(\"Q\")[1],\n",
    "                \"question\": question[\"text\"].replace(\"\\n\",\"\"),\n",
    "                \"value_type\": \"list\" if question[\"type\"] == \"option\" else \"text\",\n",
    "                \"tooltip\": tooltip,\n",
    "                \"unit\": unit\n",
    "            })\n",
    "        questionGroups.append({\n",
    "            \"name\": questionGroup[\"heading\"],\n",
    "            \"repeatable\":questionGroup[\"repeatable\"],\n",
    "            \"answers\": questions,\n",
    "            \"question_ids\": [q[\"id\"] for q in questions]\n",
    "        })\n",
    "    transformed_forms.append({\n",
    "        \"file\": form[\"file\"],\n",
    "        \"form\": {\n",
    "            \"name\": form['forms'][\"name\"].replace(\"_\",\" \"),\n",
    "            \"id\": form['form_id']\n",
    "        },\n",
    "        \"detail\": questionGroups\n",
    "    })"
   ]
  },
  {
   "cell_type": "code",
   "execution_count": 9,
   "metadata": {
    "ExecuteTime": {
     "end_time": "2022-05-17T07:12:55.075714Z",
     "start_time": "2022-05-17T07:12:53.123424Z"
    }
   },
   "outputs": [],
   "source": [
    "for file in files:\n",
    "    excel = pd.ExcelFile(file)\n",
    "    data = pd.read_excel(file, 'Raw Data', skiprows=1)\n",
    "    repeat_group_answers = []\n",
    "    repeat_group_sheets = list(filter(lambda x: 'Raw Data' != x, excel.sheet_names))\n",
    "    for sheet in repeat_group_sheets:\n",
    "        df = pd.read_excel(file, sheet, skiprows=1)\n",
    "        df = df.rename(columns=rename_columns(list(df)))\n",
    "        df = df.to_dict('records')\n",
    "        for d in df:\n",
    "            repeat_group_answers.append(d)\n",
    "    data = data.rename(columns=rename_columns(list(data))).to_dict('records')\n",
    "    for d in data:\n",
    "        repeat_group = list(filter(lambda x: x['Identifier'] == d['Identifier'], repeat_group_answers))\n",
    "        d.update({'repeat_group': repeat_group})\n",
    "    selected_form = list(filter(lambda x: x[\"file\"] == file, transformed_forms))[0]\n",
    "    data = generate_payload(data, selected_form)\n",
    "    for res in data:\n",
    "        if res[\"organisation\"][\"name\"]:\n",
    "            output_text = template.render(\n",
    "                webdomain=\"https://isco.akvo.org\",\n",
    "                data=res,\n",
    "                detail=res[\"detail\"])\n",
    "            organisation_name = re.sub(\n",
    "                '[^A-Za-z0-9_]+', '',\n",
    "                res[\"organisation\"][\"name\"].strip().lower().replace(\" \", \"_\"))\n",
    "            organisation_id = res[\"organisation\"][\"id\"]\n",
    "            organisation_folder = f\"{organisation_id}_{organisation_name}\"\n",
    "            if not os.path.exists(f\"./results/{organisation_folder}\"):\n",
    "                os.makedirs(f\"./results/{organisation_folder}\")\n",
    "            year = file.split(\"/\")[2].replace(\"Data \",\"\")\n",
    "            form_type = file.split(\"/\")[3].split(\"_\")[0]\n",
    "            filename = \"{}_{}_{}_{}_{}\".format(\n",
    "                year,\n",
    "                form_type.lower(),\n",
    "                res[\"form\"][\"id\"],\n",
    "                res[\"form\"][\"name\"].lower().replace(\" \",\"-\").replace(\"_\",\"-\"),\n",
    "                res[\"id\"]\n",
    "            )\n",
    "            html_path = \"./results/{}/{}.html\".format(\n",
    "                organisation_folder,\n",
    "                filename)\n",
    "            html_file = open(html_path, 'w', encoding='utf-8')\n",
    "            html_file.write(output_text)"
   ]
  },
  {
   "cell_type": "code",
   "execution_count": null,
   "metadata": {},
   "outputs": [],
   "source": []
  }
 ],
 "metadata": {
  "kernelspec": {
   "display_name": "Python 3",
   "language": "python",
   "name": "python3"
  },
  "language_info": {
   "codemirror_mode": {
    "name": "ipython",
    "version": 3
   },
   "file_extension": ".py",
   "mimetype": "text/x-python",
   "name": "python",
   "nbconvert_exporter": "python",
   "pygments_lexer": "ipython3",
   "version": "3.8.5"
  },
  "toc": {
   "base_numbering": 1,
   "nav_menu": {},
   "number_sections": true,
   "sideBar": true,
   "skip_h1_title": false,
   "title_cell": "Table of Contents",
   "title_sidebar": "Contents",
   "toc_cell": false,
   "toc_position": {},
   "toc_section_display": true,
   "toc_window_display": false
  }
 },
 "nbformat": 4,
 "nbformat_minor": 4
}
