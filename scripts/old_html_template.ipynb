{
 "cells": [
  {
   "cell_type": "code",
   "execution_count": null,
   "metadata": {
    "ExecuteTime": {
     "end_time": "2022-05-13T14:24:55.975821Z",
     "start_time": "2022-05-13T14:24:55.959455Z"
    }
   },
   "outputs": [],
   "source": [
    "import pandas as pd\n",
    "import glob"
   ]
  },
  {
   "cell_type": "code",
   "execution_count": null,
   "metadata": {
    "ExecuteTime": {
     "end_time": "2022-05-13T14:24:56.126498Z",
     "start_time": "2022-05-13T14:24:56.115562Z"
    }
   },
   "outputs": [],
   "source": [
    "users = pd.read_csv('./user_organisation.csv')\n",
    "emails = users['email'].str.lower().tolist()\n",
    "files = glob.glob('./**/*.xlsx', recursive=True)"
   ]
  },
  {
   "cell_type": "code",
   "execution_count": null,
   "metadata": {
    "ExecuteTime": {
     "end_time": "2022-05-13T14:24:56.293486Z",
     "start_time": "2022-05-13T14:24:56.284038Z"
    }
   },
   "outputs": [],
   "source": [
    "def rename_columns(column_names):\n",
    "    new_column_names = {}\n",
    "    for col in list(filter(lambda x: '|' in x, list(column_names))):\n",
    "        new_column_names.update({col: col.split('|')[0]})\n",
    "    return new_column_names"
   ]
  },
  {
   "cell_type": "code",
   "execution_count": null,
   "metadata": {
    "ExecuteTime": {
     "end_time": "2022-05-13T14:24:56.436834Z",
     "start_time": "2022-05-13T14:24:56.433043Z"
    }
   },
   "outputs": [],
   "source": [
    "file = files[0]"
   ]
  },
  {
   "cell_type": "code",
   "execution_count": null,
   "metadata": {
    "ExecuteTime": {
     "end_time": "2022-05-13T14:24:56.765259Z",
     "start_time": "2022-05-13T14:24:56.591675Z"
    }
   },
   "outputs": [],
   "source": [
    "excel = pd.ExcelFile(file)\n",
    "data = pd.read_excel(file, 'Raw Data', skiprows=1)\n",
    "repeat_group_answers = []\n",
    "repeat_group_sheets = list(filter(lambda x: 'Raw Data' != x, excel.sheet_names))\n",
    "for sheet in repeat_group_sheets:\n",
    "    df = pd.read_excel(file, sheet, skiprows=1)\n",
    "    df = df.rename(columns=rename_columns(list(df)))\n",
    "    print(list(df))\n",
    "    df = df.to_dict('records')\n",
    "    for d in df:\n",
    "        repeat_group_answers.append(d)"
   ]
  },
  {
   "cell_type": "code",
   "execution_count": null,
   "metadata": {
    "ExecuteTime": {
     "end_time": "2022-05-13T13:50:20.066006Z",
     "start_time": "2022-05-13T13:50:20.037929Z"
    }
   },
   "outputs": [],
   "source": [
    "data = data.rename(columns=rename_columns(list(data))).to_dict('records')"
   ]
  },
  {
   "cell_type": "code",
   "execution_count": null,
   "metadata": {
    "ExecuteTime": {
     "end_time": "2022-05-13T13:51:02.884696Z",
     "start_time": "2022-05-13T13:51:02.880213Z"
    }
   },
   "outputs": [],
   "source": [
    "for d in data:\n",
    "    repeat_group = list(filter(lambda x: x['Identifier'] == d['Identifier'], repeat_group_answers))\n",
    "    d.update({'repeat_group': repeat_group})"
   ]
  }
 ],
 "metadata": {
  "kernelspec": {
   "display_name": "Python 3",
   "language": "python",
   "name": "python3"
  },
  "language_info": {
   "codemirror_mode": {
    "name": "ipython",
    "version": 3
   },
   "file_extension": ".py",
   "mimetype": "text/x-python",
   "name": "python",
   "nbconvert_exporter": "python",
   "pygments_lexer": "ipython3",
   "version": "3.8.5"
  },
  "toc": {
   "base_numbering": 1,
   "nav_menu": {},
   "number_sections": true,
   "sideBar": true,
   "skip_h1_title": false,
   "title_cell": "Table of Contents",
   "title_sidebar": "Contents",
   "toc_cell": false,
   "toc_position": {},
   "toc_section_display": true,
   "toc_window_display": false
  }
 },
 "nbformat": 4,
 "nbformat_minor": 4
}
